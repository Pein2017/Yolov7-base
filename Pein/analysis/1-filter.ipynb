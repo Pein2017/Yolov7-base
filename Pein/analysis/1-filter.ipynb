{
 "cells": [
  {
   "cell_type": "code",
   "execution_count": null,
   "metadata": {},
   "outputs": [],
   "source": [
    "import os\n",
    "from PIL import Image"
   ]
  },
  {
   "cell_type": "markdown",
   "metadata": {},
   "source": [
    "### 删除缩略图，小于250的图被视为缩略图"
   ]
  },
  {
   "cell_type": "code",
   "execution_count": 18,
   "metadata": {},
   "outputs": [
    {
     "name": "stdout",
     "output_type": "stream",
     "text": [
      "Image too small: /data/dataset/BBU_wind_shield/neg/1813043-2.jpeg \n",
      "\n",
      "Image too small: /data/dataset/BBU_wind_shield/neg/1027659-1.jpeg \n",
      "\n",
      "Image too small: /data/dataset/BBU_wind_shield/neg/1813043-0.jpeg \n",
      "\n",
      "Image too small: /data/dataset/BBU_wind_shield/neg/617443-0.jpeg \n",
      "\n",
      "Image too small: /data/dataset/BBU_wind_shield/neg/1027659-2.jpeg \n",
      "\n",
      "Image too small: /data/dataset/BBU_wind_shield/neg/1813043-3.jpeg \n",
      "\n",
      "Image too small: /data/dataset/BBU_wind_shield/neg/1027659-0.jpeg \n",
      "\n",
      "Image too small: /data/dataset/BBU_wind_shield/neg/1813043-1.jpeg \n",
      "\n",
      "Image too small: /data/dataset/BBU_wind_shield/neg/671250-0.jpeg \n",
      "\n"
     ]
    }
   ],
   "source": [
    "# Set your folder path and threshold\n",
    "folder_path = \"/data/dataset/BBU_wind_shield/neg\"\n",
    "threshold = 250\n",
    "\n",
    "# List to store file paths of images to be deleted\n",
    "to_delete = []\n",
    "\n",
    "# Iterate through the files in the folder\n",
    "for filename in os.listdir(folder_path):\n",
    "    if filename.endswith(\".jpeg\"):\n",
    "        file_path = os.path.join(folder_path, filename)\n",
    "        try:\n",
    "            with Image.open(file_path) as img:\n",
    "                width, height = img.size\n",
    "                if max(width, height) < threshold:\n",
    "                    print(\"Image too small:\", file_path, \"\\n\")\n",
    "                    to_delete.append(file_path)\n",
    "        except Exception as e:\n",
    "            print(f\"Error opening image {file_path}: {e}\")\n"
   ]
  },
  {
   "cell_type": "code",
   "execution_count": 19,
   "metadata": {},
   "outputs": [
    {
     "data": {
      "text/plain": [
       "9"
      ]
     },
     "execution_count": 19,
     "metadata": {},
     "output_type": "execute_result"
    }
   ],
   "source": [
    "len(to_delete)"
   ]
  },
  {
   "cell_type": "code",
   "execution_count": 20,
   "metadata": {},
   "outputs": [
    {
     "name": "stdout",
     "output_type": "stream",
     "text": [
      "Deleted: /data/dataset/BBU_wind_shield/neg/1813043-2.jpeg\n",
      "Deleted: /data/dataset/BBU_wind_shield/neg/1027659-1.jpeg\n",
      "Deleted: /data/dataset/BBU_wind_shield/neg/1813043-0.jpeg\n",
      "Deleted: /data/dataset/BBU_wind_shield/neg/617443-0.jpeg\n",
      "Deleted: /data/dataset/BBU_wind_shield/neg/1027659-2.jpeg\n",
      "Deleted: /data/dataset/BBU_wind_shield/neg/1813043-3.jpeg\n",
      "Deleted: /data/dataset/BBU_wind_shield/neg/1027659-0.jpeg\n",
      "Deleted: /data/dataset/BBU_wind_shield/neg/1813043-1.jpeg\n",
      "Deleted: /data/dataset/BBU_wind_shield/neg/671250-0.jpeg\n",
      "Deleted 9 files that were smaller than 250px.\n"
     ]
    }
   ],
   "source": [
    "# Delete the images in the 'to_delete' list\n",
    "for file_path in to_delete:\n",
    "    try:\n",
    "        os.remove(file_path)\n",
    "        print(f\"Deleted: {file_path}\")\n",
    "    except Exception as e:\n",
    "        print(f\"Error deleting file {file_path}: {e}\")\n",
    "\n",
    "# Print summary\n",
    "print(f\"Deleted {len(to_delete)} files that were smaller than {threshold}px.\")\n"
   ]
  },
  {
   "cell_type": "code",
   "execution_count": null,
   "metadata": {},
   "outputs": [],
   "source": []
  }
 ],
 "metadata": {
  "kernelspec": {
   "display_name": "yolov7",
   "language": "python",
   "name": "python3"
  },
  "language_info": {
   "codemirror_mode": {
    "name": "ipython",
    "version": 3
   },
   "file_extension": ".py",
   "mimetype": "text/x-python",
   "name": "python",
   "nbconvert_exporter": "python",
   "pygments_lexer": "ipython3",
   "version": "3.9.19"
  }
 },
 "nbformat": 4,
 "nbformat_minor": 2
}
